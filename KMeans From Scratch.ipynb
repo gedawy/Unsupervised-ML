{
 "cells": [
  {
   "cell_type": "code",
   "execution_count": 142,
   "metadata": {},
   "outputs": [],
   "source": [
    "import pandas as pd\n",
    "import numpy as np\n",
    "import matplotlib.pyplot as plt\n",
    "%matplotlib inline"
   ]
  },
  {
   "cell_type": "code",
   "execution_count": 143,
   "metadata": {},
   "outputs": [],
   "source": [
    "from sklearn.datasets.samples_generator import make_blobs"
   ]
  },
  {
   "cell_type": "code",
   "execution_count": 144,
   "metadata": {},
   "outputs": [],
   "source": [
    "#Get dataset\n",
    "X, y = make_blobs(n_samples=100, centers=5, random_state=101)"
   ]
  },
  {
   "cell_type": "code",
   "execution_count": 145,
   "metadata": {},
   "outputs": [
    {
     "data": {
      "text/plain": [
       "array([3, 1, 4, 3, 0, 0, 2, 4, 1, 1, 0, 1, 1, 0, 0, 0, 2, 0, 4, 0, 4, 3,\n",
       "       4, 0, 0, 3, 1, 3, 4, 0, 1, 2, 4, 1, 1, 4, 3, 3, 1, 0, 2, 4, 0, 0,\n",
       "       2, 4, 3, 1, 1, 1, 3, 3, 2, 4, 1, 3, 0, 2, 4, 4, 1, 3, 2, 2, 4, 0,\n",
       "       3, 4, 1, 3, 4, 3, 2, 3, 2, 0, 2, 3, 1, 2, 1, 4, 2, 4, 3, 2, 2, 0,\n",
       "       1, 2, 4, 0, 3, 2, 1, 4, 3, 2, 2, 0])"
      ]
     },
     "execution_count": 145,
     "metadata": {},
     "output_type": "execute_result"
    }
   ],
   "source": [
    "y"
   ]
  },
  {
   "cell_type": "code",
   "execution_count": 146,
   "metadata": {},
   "outputs": [
    {
     "data": {
      "image/png": "[encoded data removed]",
      "text/plain": [
       "<Figure size 432x288 with 1 Axes>"
      ]
     },
     "metadata": {
      "needs_background": "light"
     },
     "output_type": "display_data"
    }
   ],
   "source": [
    "plt.scatter(X[:,0],X[:,1]);"
   ]
  },
  {
   "cell_type": "code",
   "execution_count": 147,
   "metadata": {},
   "outputs": [],
   "source": [
    "m = X.shape[0]\n",
    "n = X.shape[1]\n",
    "n_iter = 100"
   ]
  },
  {
   "cell_type": "code",
   "execution_count": 148,
   "metadata": {},
   "outputs": [
    {
     "name": "stdout",
     "output_type": "stream",
     "text": [
      "100 2\n"
     ]
    }
   ],
   "source": [
    "print(m,n)"
   ]
  },
  {
   "cell_type": "code",
   "execution_count": 149,
   "metadata": {},
   "outputs": [],
   "source": [
    "K = 5\n",
    "import random"
   ]
  },
  {
   "cell_type": "code",
   "execution_count": 150,
   "metadata": {},
   "outputs": [
    {
     "data": {
      "text/plain": [
       "array([], shape=(2, 0), dtype=float64)"
      ]
     },
     "execution_count": 150,
     "metadata": {},
     "output_type": "execute_result"
    }
   ],
   "source": [
    "centroids = np.array([]).reshape(n,0)\n",
    "centroids"
   ]
  },
  {
   "cell_type": "code",
   "execution_count": 151,
   "metadata": {},
   "outputs": [
    {
     "data": {
      "text/plain": [
       "99"
      ]
     },
     "execution_count": 151,
     "metadata": {},
     "output_type": "execute_result"
    }
   ],
   "source": [
    "m-1"
   ]
  },
  {
   "cell_type": "code",
   "execution_count": 152,
   "metadata": {},
   "outputs": [
    {
     "data": {
      "text/plain": [
       "array([ 4.15136702, -5.1385105 ])"
      ]
     },
     "execution_count": 152,
     "metadata": {},
     "output_type": "execute_result"
    }
   ],
   "source": [
    "X[22]"
   ]
  },
  {
   "cell_type": "code",
   "execution_count": 153,
   "metadata": {},
   "outputs": [
    {
     "data": {
      "text/plain": [
       "array([[ -4.95836863,   5.96425277],\n",
       "       [-10.56433263,  -5.95908897],\n",
       "       [  5.03973453,  -5.91474793],\n",
       "       [ -4.24393374,   7.46294311],\n",
       "       [  0.29639341,   2.06317757],\n",
       "       [ -1.37811338,   0.25423232],\n",
       "       [  3.74699958,   6.26688185],\n",
       "       [  4.60888633,  -6.82802632],\n",
       "       [ -9.2834887 ,  -7.04901491],\n",
       "       [ -9.04448516,  -4.48554835],\n",
       "       [  1.13567847,   1.48631141],\n",
       "       [ -8.43794202,  -5.37732624],\n",
       "       [ -8.46905731,  -8.71077917],\n",
       "       [ -1.69019569,   2.15347379],\n",
       "       [ -0.16913147,   0.65928204],\n",
       "       [  0.96675957,   1.74299804],\n",
       "       [  1.73293453,   5.81105222],\n",
       "       [  0.630638  ,   3.10707466],\n",
       "       [  6.18289166,  -5.50567419],\n",
       "       [ -0.61543385,   1.89810338],\n",
       "       [  4.3964456 ,  -5.51281249],\n",
       "       [ -3.62367998,   8.07304206],\n",
       "       [  4.15136702,  -5.1385105 ],\n",
       "       [ -0.80867204,   1.41371822],\n",
       "       [ -0.66529095,   1.61015124],\n",
       "       [ -4.11257256,   7.29414134],\n",
       "       [ -8.87174606,  -5.5447566 ],\n",
       "       [ -3.5550441 ,   8.11543921],\n",
       "       [  4.76174286,  -7.26426981],\n",
       "       [  0.85678605,   0.8243512 ],\n",
       "       [-10.81343557,  -5.08707138],\n",
       "       [  3.17306911,   8.79566463],\n",
       "       [  3.12439493,  -7.83414491],\n",
       "       [-10.43570239,  -7.31135658],\n",
       "       [-10.18584081,  -6.91598538],\n",
       "       [  3.66494716,  -5.23892175],\n",
       "       [ -4.24077911,   6.20620242],\n",
       "       [ -3.66315162,  10.17524886],\n",
       "       [-10.28571151,  -5.02757647],\n",
       "       [  0.21119924,   3.31510653],\n",
       "       [  2.90088812,   6.93148529],\n",
       "       [  4.48453869,  -8.31633401],\n",
       "       [  1.35395671,   1.25675383],\n",
       "       [  0.51666786,   0.65447968],\n",
       "       [  2.02725598,   7.01191035],\n",
       "       [  3.19526297,  -6.99964888],\n",
       "       [ -6.5976702 ,   9.3948237 ],\n",
       "       [ -9.24339095,  -7.30241202],\n",
       "       [ -8.74930618,  -5.5344418 ],\n",
       "       [ -9.46167595,  -4.62963456],\n",
       "       [ -2.99651073,   6.31133015],\n",
       "       [ -2.72697262,   8.40044833],\n",
       "       [  2.32016108,   5.34827719],\n",
       "       [  4.22508494,  -3.70723073],\n",
       "       [-10.35638973,  -4.70670274],\n",
       "       [ -3.90635209,   7.88468258],\n",
       "       [  0.19313183,   1.80387958],\n",
       "       [  2.62506817,   7.58033501],\n",
       "       [  6.46042142,  -7.2475793 ],\n",
       "       [  5.18499867,  -6.97326156],\n",
       "       [ -9.03802666,  -6.34807619],\n",
       "       [ -3.13165187,   7.00917032],\n",
       "       [  4.42632723,   5.45485521],\n",
       "       [  4.68125931,   6.28969855],\n",
       "       [  4.58453807,  -6.03358267],\n",
       "       [  0.49487719,   1.5978536 ],\n",
       "       [ -3.76704762,   9.11307421],\n",
       "       [  5.23300661,  -7.8687577 ],\n",
       "       [ -7.27566903,  -7.17982573],\n",
       "       [ -3.51713642,   8.06853691],\n",
       "       [  4.03978827,  -4.45774397],\n",
       "       [ -4.03473215,   8.65240131],\n",
       "       [  3.13695827,   8.0852755 ],\n",
       "       [ -4.8434516 ,  10.10381684],\n",
       "       [  4.48885568,   5.96898352],\n",
       "       [ -0.60526466,   2.36840825],\n",
       "       [  4.38307475,   6.70404273],\n",
       "       [ -3.53283087,   8.54674678],\n",
       "       [ -9.80703415,  -6.33923053],\n",
       "       [  3.31438301,   7.70623041],\n",
       "       [-10.89802949,  -7.06366223],\n",
       "       [  4.30549643,  -7.14680904],\n",
       "       [  5.3123195 ,   5.56222729],\n",
       "       [  3.88361735,  -5.70449396],\n",
       "       [ -4.83206817,   6.34992872],\n",
       "       [  4.34734515,   5.77283735],\n",
       "       [  4.37185895,   6.13970263],\n",
       "       [  0.56609951,   3.41000402],\n",
       "       [-10.47729501,  -5.2768023 ],\n",
       "       [  4.29238693,   5.05658943],\n",
       "       [  4.51240059,  -6.61641203],\n",
       "       [  2.93393983,   2.09686062],\n",
       "       [ -3.46721485,   7.24175496],\n",
       "       [  3.86732082,   7.51096658],\n",
       "       [ -9.59305021,  -6.08375814],\n",
       "       [  5.56089529,  -5.3034246 ],\n",
       "       [ -5.25896528,   7.65295088],\n",
       "       [  2.93421103,   6.78841466],\n",
       "       [  4.35468738,   7.03687778],\n",
       "       [  0.51876688,   3.39210906]])"
      ]
     },
     "execution_count": 153,
     "metadata": {},
     "output_type": "execute_result"
    }
   ],
   "source": [
    "X"
   ]
  },
  {
   "cell_type": "code",
   "execution_count": 154,
   "metadata": {},
   "outputs": [],
   "source": [
    "#Create random centroids\n",
    "for k in range(K):\n",
    "  centroids = np.c_[centroids,X[random.randint(0,m-1)]]"
   ]
  },
  {
   "cell_type": "code",
   "execution_count": 155,
   "metadata": {},
   "outputs": [
    {
     "data": {
      "text/plain": [
       "array([[ -3.76704762, -10.43570239,  -2.99651073,   3.17306911,\n",
       "          4.48453869],\n",
       "       [  9.11307421,  -7.31135658,   6.31133015,   8.79566463,\n",
       "         -8.31633401]])"
      ]
     },
     "execution_count": 155,
     "metadata": {},
     "output_type": "execute_result"
    }
   ],
   "source": [
    "centroids"
   ]
  },
  {
   "cell_type": "code",
   "execution_count": 156,
   "metadata": {},
   "outputs": [
    {
     "data": {
      "text/plain": [
       "array([], shape=(100, 0), dtype=float64)"
      ]
     },
     "execution_count": 156,
     "metadata": {},
     "output_type": "execute_result"
    }
   ],
   "source": [
    "output = {}\n",
    "\n",
    "#create empty array for distances\n",
    "\n",
    "euclidean = np.array([]).reshape(m,0)\n",
    "euclidean"
   ]
  },
  {
   "cell_type": "code",
   "execution_count": 157,
   "metadata": {},
   "outputs": [
    {
     "data": {
      "text/plain": [
       "array([-10.43570239,  -7.31135658])"
      ]
     },
     "execution_count": 157,
     "metadata": {},
     "output_type": "execute_result"
    }
   ],
   "source": [
    "centroids[:,1]"
   ]
  },
  {
   "cell_type": "code",
   "execution_count": 158,
   "metadata": {},
   "outputs": [
    {
     "data": {
      "text/plain": [
       "array([18.75294311,  1.22363737, 16.87204557, 20.96606834, 20.10662995,\n",
       "       16.62317791, 27.76094039, 15.52791897,  1.41455535,  4.21702546,\n",
       "       20.36904885,  3.93179071,  0.56722249, 18.21033707, 18.23720954,\n",
       "       20.45681657, 25.29104572, 21.48477163, 18.42427643, 19.0297285 ,\n",
       "       16.63069207, 22.19642105, 16.75991549, 18.35210515, 18.69191926,\n",
       "       20.92862774,  3.33055631, 22.30745408, 15.24453201, 19.42819622,\n",
       "        1.84655202, 29.71579271, 13.03730899,  0.        ,  0.64523278,\n",
       "       16.17308438, 19.71248227, 24.25915621,  2.43377099, 21.27336474,\n",
       "       27.57943238, 13.91526365, 20.35776951, 18.91820651, 26.7862253 ,\n",
       "       13.94267307, 20.54421247,  1.201256  ,  3.46331099,  3.65574845,\n",
       "       21.06187839, 23.42053468, 25.41549724, 18.26491317,  2.6839665 ,\n",
       "       21.72538947, 19.74407038, 27.95246215, 16.95990109, 15.95879608,\n",
       "        2.36095612, 21.62457742, 27.62824142, 28.71801683, 16.29801437,\n",
       "       19.83978975, 23.09308555, 15.11130788,  3.29156421, 22.29845946,\n",
       "       17.32910327, 22.36472813, 28.96929274, 23.0074242 , 28.20489817,\n",
       "       19.51020255, 28.83417645, 22.76097488,  1.60079429, 28.76767239,\n",
       "       -0.21463276, 14.90574636, 28.62160575, 15.92618235, 19.26491952,\n",
       "       27.86724146, 28.25862055, 21.7231625 ,  1.99296166, 27.09603532,\n",
       "       15.64304753, 22.77785942, 21.52159908, 29.12534637,  2.07025062,\n",
       "       18.00452965, 20.14104456, 27.46968466, 29.13862413, 21.65793491])"
      ]
     },
     "execution_count": 158,
     "metadata": {},
     "output_type": "execute_result"
    }
   ],
   "source": [
    "np.sum(X-centroids[:,1],axis=1)"
   ]
  },
  {
   "cell_type": "code",
   "execution_count": 159,
   "metadata": {},
   "outputs": [],
   "source": [
    "for k in range(K):\n",
    "  dist = np.sum((X-centroids[:,k])**2, axis=1)\n",
    "  euclidean = np.c_[euclidean,dist]"
   ]
  },
  {
   "cell_type": "code",
   "execution_count": 160,
   "metadata": {},
   "outputs": [
    {
     "data": {
      "text/plain": [
       "(100, 5)"
      ]
     },
     "execution_count": 160,
     "metadata": {},
     "output_type": "execute_result"
    }
   ],
   "source": [
    "euclidean.shape"
   ]
  },
  {
   "cell_type": "code",
   "execution_count": 161,
   "metadata": {},
   "outputs": [
    {
     "data": {
      "text/plain": [
       "array([[1.13343222e+01, 2.06242989e+02, 3.96934913e+00, 7.41371728e+01,\n",
       "        2.93103658e+02],\n",
       "       [2.73373186e+02, 1.84517343e+00, 2.07835114e+02, 4.06418960e+02,\n",
       "        2.32025132e+02],\n",
       "       [3.03394850e+02, 2.41439663e+02, 2.14058223e+02, 2.19880678e+02,\n",
       "        6.07585814e+00],\n",
       "       [2.95035301e+00, 2.56617930e+02, 2.88227658e+00, 5.67880779e+01,\n",
       "        3.25171818e+02],\n",
       "       [6.62125956e+01, 2.03059771e+02, 2.88900180e+01, 5.36016451e+01,\n",
       "        1.25274822e+02],\n",
       "       [8.41860864e+01, 1.39278054e+02, 3.93076440e+01, 9.36693280e+01,\n",
       "        1.07825297e+02],\n",
       "       [6.45617162e+01, 3.85517594e+02, 4.54769069e+01, 6.72413856e+00,\n",
       "        2.13214149e+02],\n",
       "       [3.24274956e+02, 2.26573258e+02, 2.30484753e+02, 2.46161290e+02,\n",
       "        2.23052212e+00],\n",
       "       [2.91644247e+02, 1.39641953e+00, 2.18024912e+02, 4.06219702e+02,\n",
       "        1.91164676e+02],\n",
       "       [2.12773882e+02, 9.92067756e+00, 1.53150580e+02, 3.25659250e+02,\n",
       "        1.97709405e+02],\n",
       "       [8.22042338e+01, 2.11295817e+02, 4.03557933e+01, 5.75776051e+01,\n",
       "        1.07306722e+02],\n",
       "       [2.31788960e+02, 7.73151986e+00, 1.66233863e+02, 3.35689250e+02,\n",
       "        1.75628274e+02],\n",
       "       [3.39798644e+02, 5.82607642e+00, 2.55612534e+02, 4.42014682e+02,\n",
       "        1.67951237e+02],\n",
       "       [5.27493518e+01, 1.66066901e+02, 1.89942284e+01, 6.77700437e+01,\n",
       "        1.47744220e+02],\n",
       "       [8.44116027e+01, 1.68933558e+02, 3.99397213e+01, 7.73710265e+01,\n",
       "        1.02218329e+02],\n",
       "       [7.67269533e+01, 2.11997476e+02, 3.65771697e+01, 5.46079079e+01,\n",
       "        1.13564931e+02],\n",
       "       [4.11531529e+01, 3.20273337e+02, 2.26179305e+01, 1.09818989e+01,\n",
       "        2.07154367e+02],\n",
       "       [5.54116694e+01, 2.31007599e+02, 2.34234611e+01, 3.88240118e+01,\n",
       "        1.45346816e+02],\n",
       "       [3.12709096e+02, 2.79438157e+02, 2.23903020e+02, 2.13587324e+02,\n",
       "        1.07842114e+01],\n",
       "       [6.19884733e+01, 1.81251827e+02, 2.51460976e+01, 6.19291059e+01,\n",
       "        1.30344451e+02],\n",
       "       [2.80559183e+02, 2.23227375e+02, 1.94466152e+02, 2.06229168e+02,\n",
       "        7.86749332e+00],\n",
       "       [1.10222114e+00, 2.83083371e+02, 3.49697014e+00, 4.67179815e+01,\n",
       "        3.34354858e+02],\n",
       "       [2.65808957e+02, 2.17503854e+02, 1.82191007e+02, 1.95118303e+02,\n",
       "        1.02095656e+01],\n",
       "       [6.80320687e+01, 1.68806644e+02, 2.87732407e+01, 7.03473955e+01,\n",
       "        1.22691996e+02],\n",
       "       [6.59147475e+01, 1.75054242e+02, 2.75356688e+01, 6.63646106e+01,\n",
       "        1.25055855e+02],\n",
       "       [3.42790427e+00, 2.53302540e+02, 2.21151184e+00, 5.53351467e+01,\n",
       "        3.17597262e+02],\n",
       "       [2.40909950e+02, 5.56683488e+00, 1.75085183e+02, 3.50725254e+02,\n",
       "        1.86071984e+02],\n",
       "       [1.04022109e+00, 2.85329487e+02, 3.56676903e+00, 4.57302139e+01,\n",
       "        3.34638063e+02],\n",
       "       [3.40957664e+02, 2.30964559e+02, 2.44487413e+02, 2.60445379e+02,\n",
       "        1.18368124e+00],\n",
       "       [9.00827668e+01, 1.93710036e+02, 4.49548340e+01, 6.89070050e+01,\n",
       "        9.67127155e+01],\n",
       "       [2.51295718e+02, 5.09012701e+00, 1.91027871e+02, 3.88352672e+02,\n",
       "        2.44456154e+02],\n",
       "       [4.82659691e+01, 4.44634794e+02, 4.42356332e+01, 0.00000000e+00,\n",
       "        2.94540450e+02],\n",
       "       [3.34700216e+02, 1.84149547e+02, 2.37559951e+02, 2.76552935e+02,\n",
       "        2.08249739e+00],\n",
       "       [3.14232883e+02, 0.00000000e+00, 2.40919166e+02, 4.44634794e+02,\n",
       "        2.23623574e+02],\n",
       "       [2.98131657e+02, 2.18749194e-01, 2.26648343e+02, 4.25316420e+02,\n",
       "        2.17181011e+02],\n",
       "       [2.61214334e+02, 2.03123304e+02, 1.77783340e+02, 1.97211559e+02,\n",
       "        1.01421965e+01],\n",
       "       [8.67432514e+00, 2.21101476e+02, 1.55925564e+00, 6.16704600e+01,\n",
       "        2.87035235e+02],\n",
       "       [1.13900937e+00, 3.51648814e+02, 1.53742779e+01, 4.86371665e+01,\n",
       "        4.08323495e+02],\n",
       "       [2.42450980e+02, 5.23814887e+00, 1.81703251e+02, 3.72220770e+02,\n",
       "        2.28976217e+02],\n",
       "       [4.94428772e+01, 2.26278233e+02, 1.92667592e+01, 3.88091902e+01,\n",
       "        1.53551839e+02],\n",
       "       [4.92206973e+01, 3.80723191e+02, 3.51639056e+01, 3.54924710e+00,\n",
       "        2.35003943e+02],\n",
       "       [3.71872948e+02, 2.23623574e+02, 2.69934659e+02, 2.94540450e+02,\n",
       "        0.00000000e+00],\n",
       "       [8.79464551e+01, 2.12408578e+02, 4.44753086e+01, 6.01443460e+01,\n",
       "        1.01444554e+02],\n",
       "       [8.98980397e+01, 1.83408961e+02, 4.43423810e+01, 7.33353600e+01,\n",
       "        9.62194973e+01],\n",
       "       [3.79888437e+01, 3.60481307e+02, 2.57290445e+01, 4.49466707e+00,\n",
       "        2.40993314e+02],\n",
       "       [3.08093614e+02, 1.85900378e+02, 2.15520224e+02, 2.49492421e+02,\n",
       "        3.39589163e+00],\n",
       "       [8.09180697e+00, 2.93826951e+02, 2.24762821e+01, 9.58263383e+01,\n",
       "        4.36500462e+02],\n",
       "       [2.99458524e+02, 1.42168657e+00, 2.24357488e+02, 4.13316552e+02,\n",
       "        1.89484090e+02],\n",
       "       [2.39372626e+02, 6.00135831e+00, 1.73416969e+02, 3.47494983e+02,\n",
       "        1.82873574e+02],\n",
       "       [2.21290836e+02, 8.14036047e+00, 1.61503070e+02, 3.39875441e+02,\n",
       "        2.08088656e+02],\n",
       "       [8.44349688e+00, 2.40919166e+02, 0.00000000e+00, 4.42356332e+01,\n",
       "        2.69934659e+02],\n",
       "       [1.58959166e+00, 3.06285328e+02, 4.43706557e+00, 3.49666883e+01,\n",
       "        3.31456707e+02],\n",
       "       [5.12278063e+01, 3.22978380e+02, 2.91944701e+01, 1.26119323e+01,\n",
       "        1.91406130e+02],\n",
       "       [2.28234402e+02, 2.27928408e+02, 1.52523006e+02, 1.57429130e+02,\n",
       "        2.13111493e+01],\n",
       "       [2.34405664e+02, 6.79051214e+00, 1.75564868e+02, 3.65360181e+02,\n",
       "        2.33282594e+02],\n",
       "       [1.52835171e+00, 2.73552022e+02, 3.30324919e+00, 5.09480927e+01,\n",
       "        3.32879987e+02],\n",
       "       [6.91073474e+01, 1.96059647e+02, 3.04909303e+01, 5.77650844e+01,\n",
       "        1.20834896e+02],\n",
       "       [4.32084338e+01, 3.92346206e+02, 3.32125227e+01, 1.77733112e+00,\n",
       "        2.56161717e+02],\n",
       "       [3.72272106e+02, 2.85483067e+02, 2.73277591e+02, 2.68192361e+02,\n",
       "        5.04634918e+00],\n",
       "       [3.38909331e+02, 2.44120610e+02, 2.43417473e+02, 2.52706894e+02,\n",
       "        2.29448779e+00],\n",
       "       [2.66830392e+02, 2.88140655e+00, 1.96760484e+02, 3.78443746e+02,\n",
       "        1.86733813e+02],\n",
       "       [4.83013930e+00, 2.58426645e+02, 5.05244044e-01, 4.29410686e+01,\n",
       "        2.92877442e+02],\n",
       "       [8.05139577e+01, 3.83856088e+02, 5.58320727e+01, 1.27316635e+01,\n",
       "        1.89649041e+02],\n",
       "       [7.93453402e+01, 4.13511232e+02, 5.89486208e+01, 8.55450370e+00,\n",
       "        2.13374886e+02],\n",
       "       [2.99170198e+02, 2.27240330e+02, 2.09869173e+02, 2.21898820e+02,\n",
       "        5.22095356e+00],\n",
       "       [7.46425439e+01, 1.98851596e+02, 3.44066508e+01, 5.89811957e+01,\n",
       "        1.14208515e+02],\n",
       "       [0.00000000e+00, 3.14232883e+02, 8.44349688e+00, 4.82659691e+01,\n",
       "        3.71872948e+02],\n",
       "       [3.69383591e+02, 2.45819138e+02, 2.68799847e+02, 2.81946314e+02,\n",
       "        7.60528775e-01],\n",
       "       [2.77769013e+02, 1.00031112e+01, 2.00322483e+02, 3.64392421e+02,\n",
       "        1.39594137e+02],\n",
       "       [1.15351377e+00, 2.84407679e+02, 3.35882672e+00, 4.52875647e+01,\n",
       "        3.32490800e+02],\n",
       "       [2.45113793e+02, 2.17682935e+02, 1.65482461e+02, 1.76404042e+02,\n",
       "        1.50865201e+01],\n",
       "       [2.83874524e-01, 2.95813986e+02, 6.55851790e+00, 5.19729233e+01,\n",
       "        3.60515954e+02],\n",
       "       [4.87216676e+01, 4.21273397e+02, 4.07663241e+01, 5.05956714e-01,\n",
       "        2.70828768e+02],\n",
       "       [2.14021649e+00, 3.34561534e+02, 1.77941459e+01, 6.59758665e+01,\n",
       "        4.26313360e+02],\n",
       "       [7.80452457e+01, 3.99109867e+02, 5.61479116e+01, 9.72142047e+00,\n",
       "        2.04070316e+02],\n",
       "       [5.54873904e+01, 1.90335353e+02, 2.12646909e+01, 5.55854308e+01,\n",
       "        1.40069815e+02],\n",
       "       [7.22279273e+01, 4.16027574e+02, 5.46125050e+01, 5.83899583e+00,\n",
       "        2.25622013e+02],\n",
       "       [3.75584242e-01, 2.99129077e+02, 5.28472682e+00, 4.50310546e+01,\n",
       "        3.48641709e+02],\n",
       "       [2.75255159e+02, 1.34025281e+00, 2.06419915e+02, 3.97548132e+02,\n",
       "        2.08157992e+02],\n",
       "       [5.21258692e+01, 4.14592767e+02, 4.17731265e+01, 1.20683654e+00,\n",
       "        2.58091835e+02],\n",
       "       [3.12537704e+02, 2.75098839e-01, 2.41324420e+02, 4.49514065e+02,\n",
       "        2.38192591e+02],\n",
       "       [3.29549771e+02, 2.17330019e+02, 2.34440819e+02, 2.55444859e+02,\n",
       "        1.39984479e+00],\n",
       "       [9.50434211e+01, 4.13729355e+02, 6.95978148e+01, 1.50315093e+01,\n",
       "        1.93299685e+02],\n",
       "       [2.78093001e+02, 2.07624925e+02, 1.91716191e+02, 2.10759478e+02,\n",
       "        7.18281492e+00],\n",
       "       [8.76924176e+00, 2.18031432e+02, 3.37076098e+00, 7.00638471e+01,\n",
       "        3.01898426e+02],\n",
       "       [7.70005522e+01, 3.89734625e+02, 5.42221936e+01, 1.05164090e+01,\n",
       "        1.98523572e+02],\n",
       "       [7.50827388e+01, 4.00194867e+02, 5.43223278e+01, 8.49123128e+00,\n",
       "        2.08989692e+02],\n",
       "       [5.13011736e+01, 2.35987218e+02, 2.11098850e+01, 3.58016307e+01,\n",
       "        1.52861169e+02],\n",
       "       [2.52095966e+02, 4.14114107e+00, 1.90246947e+02, 3.84366766e+02,\n",
       "        2.33095221e+02],\n",
       "       [8.14095541e+01, 3.69882703e+02, 5.47024033e+01, 1.52335558e+01,\n",
       "        1.78872004e+02],\n",
       "       [3.15966000e+02, 2.23928731e+02, 2.23510267e+02, 2.39325916e+02,\n",
       "        2.89051103e+00],\n",
       "       [9.41304859e+01, 2.67261884e+02, 5.29319972e+01, 4.49311580e+01,\n",
       "        1.10838979e+02],\n",
       "       [3.59173541e+00, 2.60352874e+02, 1.08725270e+00, 4.65080063e+01,\n",
       "        3.05284517e+02],\n",
       "       [6.08503304e+01, 4.24277737e+02, 4.85513111e+01, 2.13243454e+00,\n",
       "        2.50884402e+02],\n",
       "       [2.64886019e+02, 2.21706064e+00, 1.97152547e+02, 3.84371024e+02,\n",
       "        2.03162904e+02],\n",
       "       [2.94845957e+02, 2.59922928e+02, 2.08131726e+02, 2.04486031e+02,\n",
       "        1.02361666e+01],\n",
       "       [4.35777845e+00, 2.50729105e+02, 6.91864681e+00, 7.24049987e+01,\n",
       "        3.49953930e+02],\n",
       "       [5.03109095e+01, 3.77558134e+02, 3.54010702e+01, 4.08610563e+00,\n",
       "        2.30556948e+02],\n",
       "       [7.02731711e+01, 4.24627459e+02, 5.45665330e+01, 4.48955295e+00,\n",
       "        2.35737974e+02],\n",
       "       [5.10976481e+01, 2.34564574e+02, 2.08790284e+01, 3.62437332e+01,\n",
       "        1.52814985e+02]])"
      ]
     },
     "execution_count": 161,
     "metadata": {},
     "output_type": "execute_result"
    }
   ],
   "source": [
    "euclidean"
   ]
  },
  {
   "cell_type": "code",
   "execution_count": 162,
   "metadata": {},
   "outputs": [
    {
     "data": {
      "text/plain": [
       "array([3, 2, 5, 3, 3, 3, 4, 5, 2, 2, 3, 2, 2, 3, 3, 3, 4, 3, 5, 3, 5, 1,\n",
       "       5, 3, 3, 3, 2, 1, 5, 3, 2, 4, 5, 2, 2, 5, 3, 1, 2, 3, 4, 5, 3, 3,\n",
       "       4, 5, 1, 2, 2, 2, 3, 1, 4, 5, 2, 1, 3, 4, 5, 5, 2, 3, 4, 4, 5, 3,\n",
       "       1, 5, 2, 1, 5, 1, 4, 1, 4, 3, 4, 1, 2, 4, 2, 5, 4, 5, 3, 4, 4, 3,\n",
       "       2, 4, 5, 4, 3, 4, 2, 5, 1, 4, 4, 3], dtype=int64)"
      ]
     },
     "execution_count": 162,
     "metadata": {},
     "output_type": "execute_result"
    }
   ],
   "source": [
    "#Retrieve index of minimum element\n",
    "minimum = np.argmin(euclidean,axis=1)+1\n",
    "minimum"
   ]
  },
  {
   "cell_type": "code",
   "execution_count": 163,
   "metadata": {},
   "outputs": [],
   "source": [
    "cent = {}\n",
    "\n",
    "for k in range(K):\n",
    "  cent[k+1] = np.array([]).reshape(2,0)"
   ]
  },
  {
   "cell_type": "code",
   "execution_count": 164,
   "metadata": {},
   "outputs": [
    {
     "data": {
      "text/plain": [
       "{1: array([], shape=(2, 0), dtype=float64),\n",
       " 2: array([], shape=(2, 0), dtype=float64),\n",
       " 3: array([], shape=(2, 0), dtype=float64),\n",
       " 4: array([], shape=(2, 0), dtype=float64),\n",
       " 5: array([], shape=(2, 0), dtype=float64)}"
      ]
     },
     "execution_count": 164,
     "metadata": {},
     "output_type": "execute_result"
    }
   ],
   "source": [
    "cent"
   ]
  },
  {
   "cell_type": "code",
   "execution_count": 165,
   "metadata": {},
   "outputs": [],
   "source": [
    "#loop through each point\n",
    "for k in range(m):\n",
    "  cent[minimum[k]] = np.c_[cent[minimum[k]],X[k]]"
   ]
  },
  {
   "cell_type": "code",
   "execution_count": 166,
   "metadata": {},
   "outputs": [
    {
     "data": {
      "text/plain": [
       "{1: array([[-3.62367998, -3.5550441 , -3.66315162, -6.5976702 , -2.72697262,\n",
       "         -3.90635209, -3.76704762, -3.51713642, -4.03473215, -4.8434516 ,\n",
       "         -3.53283087, -5.25896528],\n",
       "        [ 8.07304206,  8.11543921, 10.17524886,  9.3948237 ,  8.40044833,\n",
       "          7.88468258,  9.11307421,  8.06853691,  8.65240131, 10.10381684,\n",
       "          8.54674678,  7.65295088]]),\n",
       " 2: array([[-10.56433263,  -9.2834887 ,  -9.04448516,  -8.43794202,\n",
       "          -8.46905731,  -8.87174606, -10.81343557, -10.43570239,\n",
       "         -10.18584081, -10.28571151,  -9.24339095,  -8.74930618,\n",
       "          -9.46167595, -10.35638973,  -9.03802666,  -7.27566903,\n",
       "          -9.80703415, -10.89802949, -10.47729501,  -9.59305021],\n",
       "        [ -5.95908897,  -7.04901491,  -4.48554835,  -5.37732624,\n",
       "          -8.71077917,  -5.5447566 ,  -5.08707138,  -7.31135658,\n",
       "          -6.91598538,  -5.02757647,  -7.30241202,  -5.5344418 ,\n",
       "          -4.62963456,  -4.70670274,  -6.34807619,  -7.17982573,\n",
       "          -6.33923053,  -7.06366223,  -5.2768023 ,  -6.08375814]]),\n",
       " 3: array([[-4.95836863, -4.24393374,  0.29639341, -1.37811338,  1.13567847,\n",
       "         -1.69019569, -0.16913147,  0.96675957,  0.630638  , -0.61543385,\n",
       "         -0.80867204, -0.66529095, -4.11257256,  0.85678605, -4.24077911,\n",
       "          0.21119924,  1.35395671,  0.51666786, -2.99651073,  0.19313183,\n",
       "         -3.13165187,  0.49487719, -0.60526466, -4.83206817,  0.56609951,\n",
       "         -3.46721485,  0.51876688],\n",
       "        [ 5.96425277,  7.46294311,  2.06317757,  0.25423232,  1.48631141,\n",
       "          2.15347379,  0.65928204,  1.74299804,  3.10707466,  1.89810338,\n",
       "          1.41371822,  1.61015124,  7.29414134,  0.8243512 ,  6.20620242,\n",
       "          3.31510653,  1.25675383,  0.65447968,  6.31133015,  1.80387958,\n",
       "          7.00917032,  1.5978536 ,  2.36840825,  6.34992872,  3.41000402,\n",
       "          7.24175496,  3.39210906]]),\n",
       " 4: array([[3.74699958, 1.73293453, 3.17306911, 2.90088812, 2.02725598,\n",
       "         2.32016108, 2.62506817, 4.42632723, 4.68125931, 3.13695827,\n",
       "         4.48885568, 4.38307475, 3.31438301, 5.3123195 , 4.34734515,\n",
       "         4.37185895, 4.29238693, 2.93393983, 3.86732082, 2.93421103,\n",
       "         4.35468738],\n",
       "        [6.26688185, 5.81105222, 8.79566463, 6.93148529, 7.01191035,\n",
       "         5.34827719, 7.58033501, 5.45485521, 6.28969855, 8.0852755 ,\n",
       "         5.96898352, 6.70404273, 7.70623041, 5.56222729, 5.77283735,\n",
       "         6.13970263, 5.05658943, 2.09686062, 7.51096658, 6.78841466,\n",
       "         7.03687778]]),\n",
       " 5: array([[ 5.03973453,  4.60888633,  6.18289166,  4.3964456 ,  4.15136702,\n",
       "          4.76174286,  3.12439493,  3.66494716,  4.48453869,  3.19526297,\n",
       "          4.22508494,  6.46042142,  5.18499867,  4.58453807,  5.23300661,\n",
       "          4.03978827,  4.30549643,  3.88361735,  4.51240059,  5.56089529],\n",
       "        [-5.91474793, -6.82802632, -5.50567419, -5.51281249, -5.1385105 ,\n",
       "         -7.26426981, -7.83414491, -5.23892175, -8.31633401, -6.99964888,\n",
       "         -3.70723073, -7.2475793 , -6.97326156, -6.03358267, -7.8687577 ,\n",
       "         -4.45774397, -7.14680904, -5.70449396, -6.61641203, -5.3034246 ]])}"
      ]
     },
     "execution_count": 166,
     "metadata": {},
     "output_type": "execute_result"
    }
   ],
   "source": [
    "cent"
   ]
  },
  {
   "cell_type": "code",
   "execution_count": 167,
   "metadata": {},
   "outputs": [],
   "source": [
    "for k in range(K):\n",
    "  cent[k+1] = cent[k+1].T"
   ]
  },
  {
   "cell_type": "code",
   "execution_count": 168,
   "metadata": {},
   "outputs": [
    {
     "data": {
      "text/plain": [
       "array([[-10.56433263,  -5.95908897],\n",
       "       [ -9.2834887 ,  -7.04901491],\n",
       "       [ -9.04448516,  -4.48554835],\n",
       "       [ -8.43794202,  -5.37732624],\n",
       "       [ -8.46905731,  -8.71077917],\n",
       "       [ -8.87174606,  -5.5447566 ],\n",
       "       [-10.81343557,  -5.08707138],\n",
       "       [-10.43570239,  -7.31135658],\n",
       "       [-10.18584081,  -6.91598538],\n",
       "       [-10.28571151,  -5.02757647],\n",
       "       [ -9.24339095,  -7.30241202],\n",
       "       [ -8.74930618,  -5.5344418 ],\n",
       "       [ -9.46167595,  -4.62963456],\n",
       "       [-10.35638973,  -4.70670274],\n",
       "       [ -9.03802666,  -6.34807619],\n",
       "       [ -7.27566903,  -7.17982573],\n",
       "       [ -9.80703415,  -6.33923053],\n",
       "       [-10.89802949,  -7.06366223],\n",
       "       [-10.47729501,  -5.2768023 ],\n",
       "       [ -9.59305021,  -6.08375814]])"
      ]
     },
     "execution_count": 168,
     "metadata": {},
     "output_type": "execute_result"
    }
   ],
   "source": [
    "cent[2]"
   ]
  },
  {
   "cell_type": "code",
   "execution_count": 169,
   "metadata": {},
   "outputs": [
    {
     "data": {
      "text/plain": [
       "array([[ -4.95836863,   5.96425277],\n",
       "       [-10.56433263,  -5.95908897],\n",
       "       [  5.03973453,  -5.91474793],\n",
       "       [ -4.24393374,   7.46294311],\n",
       "       [  0.29639341,   2.06317757],\n",
       "       [ -1.37811338,   0.25423232],\n",
       "       [  3.74699958,   6.26688185],\n",
       "       [  4.60888633,  -6.82802632],\n",
       "       [ -9.2834887 ,  -7.04901491],\n",
       "       [ -9.04448516,  -4.48554835],\n",
       "       [  1.13567847,   1.48631141],\n",
       "       [ -8.43794202,  -5.37732624],\n",
       "       [ -8.46905731,  -8.71077917],\n",
       "       [ -1.69019569,   2.15347379],\n",
       "       [ -0.16913147,   0.65928204],\n",
       "       [  0.96675957,   1.74299804],\n",
       "       [  1.73293453,   5.81105222],\n",
       "       [  0.630638  ,   3.10707466],\n",
       "       [  6.18289166,  -5.50567419],\n",
       "       [ -0.61543385,   1.89810338],\n",
       "       [  4.3964456 ,  -5.51281249],\n",
       "       [ -3.62367998,   8.07304206],\n",
       "       [  4.15136702,  -5.1385105 ],\n",
       "       [ -0.80867204,   1.41371822],\n",
       "       [ -0.66529095,   1.61015124],\n",
       "       [ -4.11257256,   7.29414134],\n",
       "       [ -8.87174606,  -5.5447566 ],\n",
       "       [ -3.5550441 ,   8.11543921],\n",
       "       [  4.76174286,  -7.26426981],\n",
       "       [  0.85678605,   0.8243512 ],\n",
       "       [-10.81343557,  -5.08707138],\n",
       "       [  3.17306911,   8.79566463],\n",
       "       [  3.12439493,  -7.83414491],\n",
       "       [-10.43570239,  -7.31135658],\n",
       "       [-10.18584081,  -6.91598538],\n",
       "       [  3.66494716,  -5.23892175],\n",
       "       [ -4.24077911,   6.20620242],\n",
       "       [ -3.66315162,  10.17524886],\n",
       "       [-10.28571151,  -5.02757647],\n",
       "       [  0.21119924,   3.31510653],\n",
       "       [  2.90088812,   6.93148529],\n",
       "       [  4.48453869,  -8.31633401],\n",
       "       [  1.35395671,   1.25675383],\n",
       "       [  0.51666786,   0.65447968],\n",
       "       [  2.02725598,   7.01191035],\n",
       "       [  3.19526297,  -6.99964888],\n",
       "       [ -6.5976702 ,   9.3948237 ],\n",
       "       [ -9.24339095,  -7.30241202],\n",
       "       [ -8.74930618,  -5.5344418 ],\n",
       "       [ -9.46167595,  -4.62963456],\n",
       "       [ -2.99651073,   6.31133015],\n",
       "       [ -2.72697262,   8.40044833],\n",
       "       [  2.32016108,   5.34827719],\n",
       "       [  4.22508494,  -3.70723073],\n",
       "       [-10.35638973,  -4.70670274],\n",
       "       [ -3.90635209,   7.88468258],\n",
       "       [  0.19313183,   1.80387958],\n",
       "       [  2.62506817,   7.58033501],\n",
       "       [  6.46042142,  -7.2475793 ],\n",
       "       [  5.18499867,  -6.97326156],\n",
       "       [ -9.03802666,  -6.34807619],\n",
       "       [ -3.13165187,   7.00917032],\n",
       "       [  4.42632723,   5.45485521],\n",
       "       [  4.68125931,   6.28969855],\n",
       "       [  4.58453807,  -6.03358267],\n",
       "       [  0.49487719,   1.5978536 ],\n",
       "       [ -3.76704762,   9.11307421],\n",
       "       [  5.23300661,  -7.8687577 ],\n",
       "       [ -7.27566903,  -7.17982573],\n",
       "       [ -3.51713642,   8.06853691],\n",
       "       [  4.03978827,  -4.45774397],\n",
       "       [ -4.03473215,   8.65240131],\n",
       "       [  3.13695827,   8.0852755 ],\n",
       "       [ -4.8434516 ,  10.10381684],\n",
       "       [  4.48885568,   5.96898352],\n",
       "       [ -0.60526466,   2.36840825],\n",
       "       [  4.38307475,   6.70404273],\n",
       "       [ -3.53283087,   8.54674678],\n",
       "       [ -9.80703415,  -6.33923053],\n",
       "       [  3.31438301,   7.70623041],\n",
       "       [-10.89802949,  -7.06366223],\n",
       "       [  4.30549643,  -7.14680904],\n",
       "       [  5.3123195 ,   5.56222729],\n",
       "       [  3.88361735,  -5.70449396],\n",
       "       [ -4.83206817,   6.34992872],\n",
       "       [  4.34734515,   5.77283735],\n",
       "       [  4.37185895,   6.13970263],\n",
       "       [  0.56609951,   3.41000402],\n",
       "       [-10.47729501,  -5.2768023 ],\n",
       "       [  4.29238693,   5.05658943],\n",
       "       [  4.51240059,  -6.61641203],\n",
       "       [  2.93393983,   2.09686062],\n",
       "       [ -3.46721485,   7.24175496],\n",
       "       [  3.86732082,   7.51096658],\n",
       "       [ -9.59305021,  -6.08375814],\n",
       "       [  5.56089529,  -5.3034246 ],\n",
       "       [ -5.25896528,   7.65295088],\n",
       "       [  2.93421103,   6.78841466],\n",
       "       [  4.35468738,   7.03687778],\n",
       "       [  0.51876688,   3.39210906]])"
      ]
     },
     "execution_count": 169,
     "metadata": {},
     "output_type": "execute_result"
    }
   ],
   "source": [
    "X"
   ]
  },
  {
   "cell_type": "code",
   "execution_count": 170,
   "metadata": {},
   "outputs": [
    {
     "data": {
      "text/plain": [
       "array([-8.2617108 , -8.16625181, -6.76501675, -6.90763413, -8.58991824,\n",
       "       -7.20825133, -7.95025347, -8.87352948, -8.55091309, -7.65664399,\n",
       "       -8.27290149, -7.14187399, -7.04565526, -7.53154623, -7.69305142,\n",
       "       -7.22774738, -8.07313234, -8.98084586, -7.87704865, -7.83840417])"
      ]
     },
     "execution_count": 170,
     "metadata": {},
     "output_type": "execute_result"
    }
   ],
   "source": [
    "np.mean(cent[2],axis=1)"
   ]
  },
  {
   "cell_type": "code",
   "execution_count": 171,
   "metadata": {},
   "outputs": [
    {
     "data": {
      "text/plain": [
       "array([[ -3.76704762, -10.43570239,  -2.99651073,   3.17306911,\n",
       "          4.48453869],\n",
       "       [  9.11307421,  -7.31135658,   6.31133015,   8.79566463,\n",
       "         -8.31633401]])"
      ]
     },
     "execution_count": 171,
     "metadata": {},
     "output_type": "execute_result"
    }
   ],
   "source": [
    "centroids"
   ]
  },
  {
   "cell_type": "code",
   "execution_count": 172,
   "metadata": {},
   "outputs": [
    {
     "data": {
      "text/plain": [
       "{1: array([[-3.62367998,  8.07304206],\n",
       "        [-3.5550441 ,  8.11543921],\n",
       "        [-3.66315162, 10.17524886],\n",
       "        [-6.5976702 ,  9.3948237 ],\n",
       "        [-2.72697262,  8.40044833],\n",
       "        [-3.90635209,  7.88468258],\n",
       "        [-3.76704762,  9.11307421],\n",
       "        [-3.51713642,  8.06853691],\n",
       "        [-4.03473215,  8.65240131],\n",
       "        [-4.8434516 , 10.10381684],\n",
       "        [-3.53283087,  8.54674678],\n",
       "        [-5.25896528,  7.65295088]]),\n",
       " 2: array([[-10.56433263,  -5.95908897],\n",
       "        [ -9.2834887 ,  -7.04901491],\n",
       "        [ -9.04448516,  -4.48554835],\n",
       "        [ -8.43794202,  -5.37732624],\n",
       "        [ -8.46905731,  -8.71077917],\n",
       "        [ -8.87174606,  -5.5447566 ],\n",
       "        [-10.81343557,  -5.08707138],\n",
       "        [-10.43570239,  -7.31135658],\n",
       "        [-10.18584081,  -6.91598538],\n",
       "        [-10.28571151,  -5.02757647],\n",
       "        [ -9.24339095,  -7.30241202],\n",
       "        [ -8.74930618,  -5.5344418 ],\n",
       "        [ -9.46167595,  -4.62963456],\n",
       "        [-10.35638973,  -4.70670274],\n",
       "        [ -9.03802666,  -6.34807619],\n",
       "        [ -7.27566903,  -7.17982573],\n",
       "        [ -9.80703415,  -6.33923053],\n",
       "        [-10.89802949,  -7.06366223],\n",
       "        [-10.47729501,  -5.2768023 ],\n",
       "        [ -9.59305021,  -6.08375814]]),\n",
       " 3: array([[-4.95836863,  5.96425277],\n",
       "        [-4.24393374,  7.46294311],\n",
       "        [ 0.29639341,  2.06317757],\n",
       "        [-1.37811338,  0.25423232],\n",
       "        [ 1.13567847,  1.48631141],\n",
       "        [-1.69019569,  2.15347379],\n",
       "        [-0.16913147,  0.65928204],\n",
       "        [ 0.96675957,  1.74299804],\n",
       "        [ 0.630638  ,  3.10707466],\n",
       "        [-0.61543385,  1.89810338],\n",
       "        [-0.80867204,  1.41371822],\n",
       "        [-0.66529095,  1.61015124],\n",
       "        [-4.11257256,  7.29414134],\n",
       "        [ 0.85678605,  0.8243512 ],\n",
       "        [-4.24077911,  6.20620242],\n",
       "        [ 0.21119924,  3.31510653],\n",
       "        [ 1.35395671,  1.25675383],\n",
       "        [ 0.51666786,  0.65447968],\n",
       "        [-2.99651073,  6.31133015],\n",
       "        [ 0.19313183,  1.80387958],\n",
       "        [-3.13165187,  7.00917032],\n",
       "        [ 0.49487719,  1.5978536 ],\n",
       "        [-0.60526466,  2.36840825],\n",
       "        [-4.83206817,  6.34992872],\n",
       "        [ 0.56609951,  3.41000402],\n",
       "        [-3.46721485,  7.24175496],\n",
       "        [ 0.51876688,  3.39210906]]),\n",
       " 4: array([[3.74699958, 6.26688185],\n",
       "        [1.73293453, 5.81105222],\n",
       "        [3.17306911, 8.79566463],\n",
       "        [2.90088812, 6.93148529],\n",
       "        [2.02725598, 7.01191035],\n",
       "        [2.32016108, 5.34827719],\n",
       "        [2.62506817, 7.58033501],\n",
       "        [4.42632723, 5.45485521],\n",
       "        [4.68125931, 6.28969855],\n",
       "        [3.13695827, 8.0852755 ],\n",
       "        [4.48885568, 5.96898352],\n",
       "        [4.38307475, 6.70404273],\n",
       "        [3.31438301, 7.70623041],\n",
       "        [5.3123195 , 5.56222729],\n",
       "        [4.34734515, 5.77283735],\n",
       "        [4.37185895, 6.13970263],\n",
       "        [4.29238693, 5.05658943],\n",
       "        [2.93393983, 2.09686062],\n",
       "        [3.86732082, 7.51096658],\n",
       "        [2.93421103, 6.78841466],\n",
       "        [4.35468738, 7.03687778]]),\n",
       " 5: array([[ 5.03973453, -5.91474793],\n",
       "        [ 4.60888633, -6.82802632],\n",
       "        [ 6.18289166, -5.50567419],\n",
       "        [ 4.3964456 , -5.51281249],\n",
       "        [ 4.15136702, -5.1385105 ],\n",
       "        [ 4.76174286, -7.26426981],\n",
       "        [ 3.12439493, -7.83414491],\n",
       "        [ 3.66494716, -5.23892175],\n",
       "        [ 4.48453869, -8.31633401],\n",
       "        [ 3.19526297, -6.99964888],\n",
       "        [ 4.22508494, -3.70723073],\n",
       "        [ 6.46042142, -7.2475793 ],\n",
       "        [ 5.18499867, -6.97326156],\n",
       "        [ 4.58453807, -6.03358267],\n",
       "        [ 5.23300661, -7.8687577 ],\n",
       "        [ 4.03978827, -4.45774397],\n",
       "        [ 4.30549643, -7.14680904],\n",
       "        [ 3.88361735, -5.70449396],\n",
       "        [ 4.51240059, -6.61641203],\n",
       "        [ 5.56089529, -5.3034246 ]])}"
      ]
     },
     "execution_count": 172,
     "metadata": {},
     "output_type": "execute_result"
    }
   ],
   "source": [
    "cent"
   ]
  },
  {
   "cell_type": "code",
   "execution_count": 173,
   "metadata": {},
   "outputs": [],
   "source": [
    "#Compute the mean\n",
    "for k in range(K):\n",
    "  centroids[:,k] = np.mean(cent[k+1],axis=0)"
   ]
  },
  {
   "cell_type": "code",
   "execution_count": 174,
   "metadata": {},
   "outputs": [
    {
     "data": {
      "text/plain": [
       "array([[-4.08558621, -9.56458048, -1.1175647 ,  3.58910973,  4.58002297],\n",
       "       [ 8.68176764, -6.09665251,  3.2907849 ,  6.37710328, -6.28061932]])"
      ]
     },
     "execution_count": 174,
     "metadata": {},
     "output_type": "execute_result"
    }
   ],
   "source": [
    "centroids"
   ]
  },
  {
   "cell_type": "code",
   "execution_count": 175,
   "metadata": {},
   "outputs": [],
   "source": [
    "n_iter = 100"
   ]
  },
  {
   "cell_type": "code",
   "execution_count": 176,
   "metadata": {},
   "outputs": [],
   "source": [
    "for i in range(n_iter):\n",
    "  cent = centroids\n",
    "  euclidean = np.array([]).reshape(m,0)\n",
    "  \n",
    "  for k in range(K):\n",
    "    dist = np.sum((X-centroids[:,k])**2, axis=1)\n",
    "    euclidean = np.c_[euclidean,dist]\n",
    "  \n",
    "  minimum = np.argmin(euclidean,axis=1)+1\n",
    "  cluster = {}\n",
    "  \n",
    "  #Initialize\n",
    "  for k in range(K):\n",
    "    cluster[k+1] = np.array([]).reshape(2,0)\n",
    "  \n",
    "  #add points to clusters\n",
    "  #loop through each point\n",
    "  for k in range(m):\n",
    "    cluster[minimum[k]] = np.c_[cluster[minimum[k]],X[k]]\n",
    "\n",
    "  for k in range(K):\n",
    "    cluster[k+1] = cluster[k+1].T\n",
    "    \n",
    "  #Compute the mean and update it\n",
    "  for k in range(K):\n",
    "    centroids[:,k] = np.mean(cluster[k+1],axis=0)\n",
    "    \n",
    "  #stopping condition\n",
    "  if(np.abs((centroids-cent).all()) < 0.001):\n",
    "    #print((centroids-cent))\n",
    "    final = cluster\n",
    "    break"
   ]
  },
  {
   "cell_type": "code",
   "execution_count": 177,
   "metadata": {},
   "outputs": [
    {
     "data": {
      "text/plain": [
       "<matplotlib.collections.PathCollection at 0x14d78530148>"
      ]
     },
     "execution_count": 177,
     "metadata": {},
     "output_type": "execute_result"
    },
    {
     "data": {
      "image/png": "[encoded data removed]",
      "text/plain": [
       "<Figure size 432x288 with 1 Axes>"
      ]
     },
     "metadata": {
      "needs_background": "light"
     },
     "output_type": "display_data"
    }
   ],
   "source": [
    "plt.scatter(X[:,0],X[:,1])"
   ]
  },
  {
   "cell_type": "code",
   "execution_count": 178,
   "metadata": {},
   "outputs": [
    {
     "data": {
      "text/plain": [
       "<matplotlib.collections.PathCollection at 0x14d785a5cc8>"
      ]
     },
     "execution_count": 178,
     "metadata": {},
     "output_type": "execute_result"
    },
    {
     "data": {
      "image/png": "[encoded data removed]",
      "text/plain": [
       "<Figure size 432x288 with 1 Axes>"
      ]
     },
     "metadata": {
      "needs_background": "light"
     },
     "output_type": "display_data"
    }
   ],
   "source": [
    "for k in range(K):\n",
    "  plt.scatter(final[k+1][:,0],final[k+1][:,1])\n",
    "  \n",
    "plt.scatter(centroids[0,:], centroids[1,:], s=200, c='yellow')"
   ]
  },
  {
   "cell_type": "code",
   "execution_count": 104,
   "metadata": {},
   "outputs": [
    {
     "data": {
      "text/plain": [
       "{1: array([[ 5.03973453, -5.91474793],\n",
       "        [ 4.60888633, -6.82802632],\n",
       "        [ 6.18289166, -5.50567419],\n",
       "        [ 4.3964456 , -5.51281249],\n",
       "        [ 4.15136702, -5.1385105 ],\n",
       "        [ 4.76174286, -7.26426981],\n",
       "        [ 3.12439493, -7.83414491],\n",
       "        [ 3.66494716, -5.23892175],\n",
       "        [ 4.48453869, -8.31633401],\n",
       "        [ 3.19526297, -6.99964888],\n",
       "        [ 4.22508494, -3.70723073],\n",
       "        [ 6.46042142, -7.2475793 ],\n",
       "        [ 5.18499867, -6.97326156],\n",
       "        [ 4.58453807, -6.03358267],\n",
       "        [ 5.23300661, -7.8687577 ],\n",
       "        [ 4.03978827, -4.45774397],\n",
       "        [ 4.30549643, -7.14680904],\n",
       "        [ 3.88361735, -5.70449396],\n",
       "        [ 4.51240059, -6.61641203],\n",
       "        [ 5.56089529, -5.3034246 ]]),\n",
       " 2: array([[ 0.29639341,  2.06317757],\n",
       "        [-1.37811338,  0.25423232],\n",
       "        [ 1.13567847,  1.48631141],\n",
       "        [-1.69019569,  2.15347379],\n",
       "        [-0.16913147,  0.65928204],\n",
       "        [ 0.96675957,  1.74299804],\n",
       "        [ 0.630638  ,  3.10707466],\n",
       "        [-0.61543385,  1.89810338],\n",
       "        [-0.80867204,  1.41371822],\n",
       "        [-0.66529095,  1.61015124],\n",
       "        [ 0.85678605,  0.8243512 ],\n",
       "        [ 0.21119924,  3.31510653],\n",
       "        [ 1.35395671,  1.25675383],\n",
       "        [ 0.51666786,  0.65447968],\n",
       "        [ 0.19313183,  1.80387958],\n",
       "        [ 0.49487719,  1.5978536 ],\n",
       "        [-0.60526466,  2.36840825],\n",
       "        [ 0.56609951,  3.41000402],\n",
       "        [ 2.93393983,  2.09686062],\n",
       "        [ 0.51876688,  3.39210906]]),\n",
       " 3: array([[-10.56433263,  -5.95908897],\n",
       "        [ -9.2834887 ,  -7.04901491],\n",
       "        [ -9.04448516,  -4.48554835],\n",
       "        [ -8.43794202,  -5.37732624],\n",
       "        [ -8.46905731,  -8.71077917],\n",
       "        [ -8.87174606,  -5.5447566 ],\n",
       "        [-10.81343557,  -5.08707138],\n",
       "        [-10.43570239,  -7.31135658],\n",
       "        [-10.18584081,  -6.91598538],\n",
       "        [-10.28571151,  -5.02757647],\n",
       "        [ -9.24339095,  -7.30241202],\n",
       "        [ -8.74930618,  -5.5344418 ],\n",
       "        [ -9.46167595,  -4.62963456],\n",
       "        [-10.35638973,  -4.70670274],\n",
       "        [ -9.03802666,  -6.34807619],\n",
       "        [ -7.27566903,  -7.17982573],\n",
       "        [ -9.80703415,  -6.33923053],\n",
       "        [-10.89802949,  -7.06366223],\n",
       "        [-10.47729501,  -5.2768023 ],\n",
       "        [ -9.59305021,  -6.08375814]]),\n",
       " 4: array([[-4.95836863,  5.96425277],\n",
       "        [-4.24393374,  7.46294311],\n",
       "        [-3.62367998,  8.07304206],\n",
       "        [-4.11257256,  7.29414134],\n",
       "        [-3.5550441 ,  8.11543921],\n",
       "        [-4.24077911,  6.20620242],\n",
       "        [-3.66315162, 10.17524886],\n",
       "        [-6.5976702 ,  9.3948237 ],\n",
       "        [-2.99651073,  6.31133015],\n",
       "        [-2.72697262,  8.40044833],\n",
       "        [-3.90635209,  7.88468258],\n",
       "        [-3.13165187,  7.00917032],\n",
       "        [-3.76704762,  9.11307421],\n",
       "        [-3.51713642,  8.06853691],\n",
       "        [-4.03473215,  8.65240131],\n",
       "        [-4.8434516 , 10.10381684],\n",
       "        [-3.53283087,  8.54674678],\n",
       "        [-4.83206817,  6.34992872],\n",
       "        [-3.46721485,  7.24175496],\n",
       "        [-5.25896528,  7.65295088]]),\n",
       " 5: array([[3.74699958, 6.26688185],\n",
       "        [1.73293453, 5.81105222],\n",
       "        [3.17306911, 8.79566463],\n",
       "        [2.90088812, 6.93148529],\n",
       "        [2.02725598, 7.01191035],\n",
       "        [2.32016108, 5.34827719],\n",
       "        [2.62506817, 7.58033501],\n",
       "        [4.42632723, 5.45485521],\n",
       "        [4.68125931, 6.28969855],\n",
       "        [3.13695827, 8.0852755 ],\n",
       "        [4.48885568, 5.96898352],\n",
       "        [4.38307475, 6.70404273],\n",
       "        [3.31438301, 7.70623041],\n",
       "        [5.3123195 , 5.56222729],\n",
       "        [4.34734515, 5.77283735],\n",
       "        [4.37185895, 6.13970263],\n",
       "        [4.29238693, 5.05658943],\n",
       "        [3.86732082, 7.51096658],\n",
       "        [2.93421103, 6.78841466],\n",
       "        [4.35468738, 7.03687778]])}"
      ]
     },
     "execution_count": 104,
     "metadata": {},
     "output_type": "execute_result"
    }
   ],
   "source": [
    "final"
   ]
  },
  {
   "cell_type": "code",
   "execution_count": 106,
   "metadata": {},
   "outputs": [
    {
     "data": {
      "text/plain": [
       "array([ 4.58002297, -6.28061932])"
      ]
     },
     "execution_count": 106,
     "metadata": {},
     "output_type": "execute_result"
    }
   ],
   "source": [
    "centroids[:,0]"
   ]
  },
  {
   "cell_type": "code",
   "execution_count": 118,
   "metadata": {},
   "outputs": [
    {
     "data": {
      "text/plain": [
       "0.4233621216264299"
      ]
     },
     "execution_count": 118,
     "metadata": {},
     "output_type": "execute_result"
    }
   ],
   "source": [
    "np.sum(np.sum((final[0+1]-centroids[:,0])**2,axis=0),axis=0)/100"
   ]
  },
  {
   "cell_type": "code",
   "execution_count": 107,
   "metadata": {},
   "outputs": [
    {
     "data": {
      "text/plain": [
       "array([[ 0.12513135, -0.32423356],\n",
       "       [-1.8889337 , -0.78006319],\n",
       "       [-0.44879912,  2.20454923],\n",
       "       [-0.72098011,  0.34036988],\n",
       "       [-1.59461225,  0.42079494],\n",
       "       [-1.30170715, -1.24283822],\n",
       "       [-0.99680006,  0.9892196 ],\n",
       "       [ 0.804459  , -1.13626019],\n",
       "       [ 1.05939109, -0.30141686],\n",
       "       [-0.48490996,  1.49416009],\n",
       "       [ 0.86698746, -0.62213189],\n",
       "       [ 0.76120652,  0.11292732],\n",
       "       [-0.30748522,  1.115115  ],\n",
       "       [ 1.69045127, -1.02888812],\n",
       "       [ 0.72547692, -0.81827806],\n",
       "       [ 0.74999073, -0.45141278],\n",
       "       [ 0.6705187 , -1.53452598],\n",
       "       [ 0.24545259,  0.91985117],\n",
       "       [-0.6876572 ,  0.19729925],\n",
       "       [ 0.73281915,  0.44576237]])"
      ]
     },
     "execution_count": 107,
     "metadata": {},
     "output_type": "execute_result"
    }
   ],
   "source": [
    "final[k+1]-centroids[:,k]"
   ]
  },
  {
   "cell_type": "code",
   "execution_count": 124,
   "metadata": {},
   "outputs": [],
   "source": [
    "summation = 0\n",
    "js = []\n",
    "for k in range(5):\n",
    "  summation += np.sum(np.sum((final[k+1]-centroids[:,k])**2,axis=0),axis=0)\n",
    "summation /= m\n",
    "js.append(summation)"
   ]
  },
  {
   "cell_type": "code",
   "execution_count": 123,
   "metadata": {},
   "outputs": [
    {
     "data": {
      "text/plain": [
       "2.018137473656779"
      ]
     },
     "execution_count": 123,
     "metadata": {},
     "output_type": "execute_result"
    }
   ],
   "source": [
    "summation"
   ]
  },
  {
   "cell_type": "code",
   "execution_count": 125,
   "metadata": {},
   "outputs": [
    {
     "data": {
      "text/plain": [
       "[2.018137473656779]"
      ]
     },
     "execution_count": 125,
     "metadata": {},
     "output_type": "execute_result"
    }
   ],
   "source": [
    "js"
   ]
  },
  {
   "cell_type": "code",
   "execution_count": 131,
   "metadata": {},
   "outputs": [],
   "source": [
    "import pandas as pd\n",
    "import numpy as np\n",
    "import matplotlib.pyplot as plt\n",
    "%matplotlib inline\n",
    "from sklearn.datasets.samples_generator import make_blobs\n",
    "import random"
   ]
  },
  {
   "cell_type": "code",
   "execution_count": 128,
   "metadata": {},
   "outputs": [],
   "source": [
    "#Get dataset\n",
    "X, y = make_blobs(n_samples=100, centers=5, random_state=101)"
   ]
  },
  {
   "cell_type": "code",
   "execution_count": 129,
   "metadata": {},
   "outputs": [
    {
     "data": {
      "image/png": "[encoded data removed]",
      "text/plain": [
       "<Figure size 432x288 with 1 Axes>"
      ]
     },
     "metadata": {
      "needs_background": "light"
     },
     "output_type": "display_data"
    }
   ],
   "source": [
    "plt.scatter(X[:,0],X[:,1]);"
   ]
  },
  {
   "cell_type": "code",
   "execution_count": 212,
   "metadata": {},
   "outputs": [],
   "source": [
    "m = X.shape[0]\n",
    "n = X.shape[1]\n",
    "n_iter = 100"
   ]
  },
  {
   "cell_type": "code",
   "execution_count": 132,
   "metadata": {},
   "outputs": [],
   "source": [
    "K = 5"
   ]
  },
  {
   "cell_type": "code",
   "execution_count": 242,
   "metadata": {},
   "outputs": [],
   "source": [
    "#Write the entire function\n",
    "def Kmeans(K):\n",
    "  \n",
    "  centroids = np.array([]).reshape(n,0)\n",
    "\n",
    "  #Create random centroids\n",
    "  for k in range(K):\n",
    "    centroids = np.c_[centroids,X[random.randint(0,m-1)]]\n",
    "    \n",
    "  for i in range(n_iter):\n",
    "    cent = centroids\n",
    "    euclidean = np.array([]).reshape(m,0)\n",
    "\n",
    "    for k in range(K):\n",
    "      dist = np.sum((X-centroids[:,k])**2, axis=1)\n",
    "      euclidean = np.c_[euclidean,dist]\n",
    "\n",
    "    minimum = np.argmin(euclidean,axis=1)+1\n",
    "    cluster = {}\n",
    "\n",
    "    #Initialize\n",
    "    for k in range(K):\n",
    "      cluster[k+1] = np.array([]).reshape(2,0)\n",
    "\n",
    "    #print(cluster)\n",
    "    #add points to clusters\n",
    "    #loop through each point\n",
    "    for k in range(m):\n",
    "      cluster[minimum[k]] = np.c_[cluster[minimum[k]],X[k]]\n",
    "\n",
    "    for k in range(K):\n",
    "      cluster[k+1] = cluster[k+1].T\n",
    "\n",
    "    #Compute the mean and update it\n",
    "    for k in range(K):\n",
    "      centroids[:,k] = np.mean(cluster[k+1],axis=0)\n",
    "    \n",
    "    #stopping condition\n",
    "    if(np.abs((centroids-cent).all()) < 0.001):\n",
    "      #print((centroids-cent))\n",
    "      summation = distortion_func(cluster, centroids, K)\n",
    "      final = cluster\n",
    "      return final,centroids,summation\n",
    "        \n",
    "  summation = distortion_func(cluster, centroids, K)\n",
    "  return final,centroids,summation"
   ]
  },
  {
   "cell_type": "code",
   "execution_count": 236,
   "metadata": {},
   "outputs": [
    {
     "name": "stdout",
     "output_type": "stream",
     "text": [
      "{1: array([], shape=(2, 0), dtype=float64), 2: array([], shape=(2, 0), dtype=float64), 3: array([], shape=(2, 0), dtype=float64), 4: array([], shape=(2, 0), dtype=float64), 5: array([], shape=(2, 0), dtype=float64)}\n"
     ]
    },
    {
     "data": {
      "text/plain": [
       "<matplotlib.collections.PathCollection at 0x14d7a12a788>"
      ]
     },
     "execution_count": 236,
     "metadata": {},
     "output_type": "execute_result"
    },
    {
     "data": {
      "image/png": "[encoded data removed]",
      "text/plain": [
       "<Figure size 432x288 with 1 Axes>"
      ]
     },
     "metadata": {
      "needs_background": "light"
     },
     "output_type": "display_data"
    }
   ],
   "source": [
    "clusters, centroids, summation = Kmeans(5)\n",
    "\n",
    "for k in range(K):\n",
    "  plt.scatter(clusters[k+1][:,0],clusters[k+1][:,1])\n",
    "  \n",
    "plt.scatter(centroids[0,:], centroids[1,:], s=200, c='yellow')"
   ]
  },
  {
   "cell_type": "code",
   "execution_count": null,
   "metadata": {},
   "outputs": [],
   "source": [
    "clusters, centroids, summation = Kmeans(5)\n",
    "\n",
    "for k in range(K):\n",
    "  plt.scatter(clusters[k+1][:,0],clusters[k+1][:,1])\n",
    "  \n",
    "plt.scatter(centroids[0,:], centroids[1,:], s=200, c='yellow')"
   ]
  },
  {
   "cell_type": "code",
   "execution_count": 243,
   "metadata": {},
   "outputs": [],
   "source": [
    "def distortion_func(cluster, centroids, K):\n",
    "    summation = 0\n",
    "    for k in range(K):\n",
    "      summation += np.sum(np.sum((cluster[k+1]-centroids[:,k])**2,axis=0),axis=0)\n",
    "    summation /= m\n",
    "    return summation"
   ]
  },
  {
   "cell_type": "code",
   "execution_count": 253,
   "metadata": {},
   "outputs": [
    {
     "data": {
      "text/plain": [
       "<matplotlib.collections.PathCollection at 0x14d7c8ed948>"
      ]
     },
     "execution_count": 253,
     "metadata": {},
     "output_type": "execute_result"
    },
    {
     "data": {
      "image/png": "[encoded data removed]",
      "text/plain": [
       "<Figure size 432x288 with 1 Axes>"
      ]
     },
     "metadata": {
      "needs_background": "light"
     },
     "output_type": "display_data"
    }
   ],
   "source": [
    "clusters, centroids, summation = Kmeans(4)\n",
    "\n",
    "for k in range(4):\n",
    "  plt.scatter(clusters[k+1][:,0],clusters[k+1][:,1])\n",
    "  \n",
    "plt.scatter(centroids[0,:], centroids[1,:], s=200, c='yellow')"
   ]
  },
  {
   "cell_type": "code",
   "execution_count": 210,
   "metadata": {},
   "outputs": [
    {
     "data": {
      "text/plain": [
       "2.471277172545988"
      ]
     },
     "execution_count": 210,
     "metadata": {},
     "output_type": "execute_result"
    }
   ],
   "source": [
    "summation"
   ]
  },
  {
   "cell_type": "code",
   "execution_count": 214,
   "metadata": {},
   "outputs": [
    {
     "data": {
      "text/plain": [
       "1"
      ]
     },
     "execution_count": 214,
     "metadata": {},
     "output_type": "execute_result"
    }
   ],
   "source": [
    "animals = [9,8,76]\n",
    "\n",
    "# get the index of 'dog'\n",
    "index = animals.index(min(animals))\n",
    "index"
   ]
  },
  {
   "cell_type": "code",
   "execution_count": 249,
   "metadata": {},
   "outputs": [],
   "source": [
    "final_clusters = []\n",
    "final_cent = []\n",
    "final_sum = []\n",
    "\n",
    "for k in range(1,9):\n",
    "  #list for current iteration\n",
    "  finals = []\n",
    "  centroid_lst = []\n",
    "  sum_lst = []\n",
    "  #loop 10 times for each k\n",
    "  for i in range(10):\n",
    "    final,centroids,summation = Kmeans(k)\n",
    "    sum_lst.append(summation)\n",
    "    finals.append(final)\n",
    "    centroid_lst.append(centroids)\n",
    "\n",
    "  #choose the best minimum distortion per k\n",
    "  min_idx = sum_lst.index(min(sum_lst))\n",
    "  final_sum.append(sum_lst[min_idx])\n",
    "  final_clusters.append(finals[min_idx])\n",
    "  final_cent.append(centroid_lst[min_idx])"
   ]
  },
  {
   "cell_type": "code",
   "execution_count": 250,
   "metadata": {},
   "outputs": [
    {
     "data": {
      "text/plain": [
       "[<matplotlib.lines.Line2D at 0x14d7c7766c8>]"
      ]
     },
     "execution_count": 250,
     "metadata": {},
     "output_type": "execute_result"
    },
    {
     "data": {
      "image/png": "[encoded data removed]",
      "text/plain": [
       "<Figure size 432x288 with 1 Axes>"
      ]
     },
     "metadata": {
      "needs_background": "light"
     },
     "output_type": "display_data"
    }
   ],
   "source": [
    "plt.plot([i+1 for i in range(8)], final_sum, 'bo-', label='line 1', linewidth=2)"
   ]
  },
  {
   "cell_type": "code",
   "execution_count": 251,
   "metadata": {},
   "outputs": [
    {
     "data": {
      "text/plain": [
       "<matplotlib.collections.PathCollection at 0x14d7c7f5088>"
      ]
     },
     "execution_count": 251,
     "metadata": {},
     "output_type": "execute_result"
    },
    {
     "data": {
      "image/png": "[encoded data removed]",
      "text/plain": [
       "<Figure size 432x288 with 1 Axes>"
      ]
     },
     "metadata": {
      "needs_background": "light"
     },
     "output_type": "display_data"
    }
   ],
   "source": [
    "for k in range(5):\n",
    "  plt.scatter(final_clusters[4][k+1][:,0],final_clusters[4][k+1][:,1])\n",
    "  \n",
    "plt.scatter(final_cent[4][0,:], final_cent[4][1,:], s=200, c='yellow')"
   ]
  },
  {
   "cell_type": "code",
   "execution_count": null,
   "metadata": {},
   "outputs": [],
   "source": []
  }
 ],
 "metadata": {
  "kernelspec": {
   "display_name": "Python 3",
   "language": "python",
   "name": "python3"
  },
  "language_info": {
   "codemirror_mode": {
    "name": "ipython",
    "version": 3
   },
   "file_extension": ".py",
   "mimetype": "text/x-python",
   "name": "python",
   "nbconvert_exporter": "python",
   "pygments_lexer": "ipython3",
   "version": "3.7.6"
  }
 },
 "nbformat": 4,
 "nbformat_minor": 4
}
